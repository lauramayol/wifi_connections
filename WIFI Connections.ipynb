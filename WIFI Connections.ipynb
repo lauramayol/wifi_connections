{
 "cells": [
  {
   "cell_type": "code",
   "execution_count": 1,
   "metadata": {},
   "outputs": [],
   "source": [
    "# we'll use sqlite to build a database\n",
    "import sqlite3 as sql\n",
    "# we'll use pandas to manipulate and analyze data\n",
    "import pandas as pd"
   ]
  },
  {
   "cell_type": "code",
   "execution_count": 2,
   "metadata": {},
   "outputs": [],
   "source": [
    "# set file name\n",
    "CSV_FILE_PATH = 'WIFI_connections_home_assignment.csv'"
   ]
  },
  {
   "cell_type": "code",
   "execution_count": 3,
   "metadata": {},
   "outputs": [
    {
     "data": {
      "text/html": [
       "<div>\n",
       "<style scoped>\n",
       "    .dataframe tbody tr th:only-of-type {\n",
       "        vertical-align: middle;\n",
       "    }\n",
       "\n",
       "    .dataframe tbody tr th {\n",
       "        vertical-align: top;\n",
       "    }\n",
       "\n",
       "    .dataframe thead th {\n",
       "        text-align: right;\n",
       "    }\n",
       "</style>\n",
       "<table border=\"1\" class=\"dataframe\">\n",
       "  <thead>\n",
       "    <tr style=\"text-align: right;\">\n",
       "      <th></th>\n",
       "      <th>connection_date</th>\n",
       "      <th>user_id</th>\n",
       "      <th>start_hour</th>\n",
       "      <th>start_minute</th>\n",
       "      <th>end_hour</th>\n",
       "      <th>end_minute</th>\n",
       "    </tr>\n",
       "  </thead>\n",
       "  <tbody>\n",
       "    <tr>\n",
       "      <th>0</th>\n",
       "      <td>20171028</td>\n",
       "      <td>24635</td>\n",
       "      <td>13</td>\n",
       "      <td>18</td>\n",
       "      <td>13</td>\n",
       "      <td>25</td>\n",
       "    </tr>\n",
       "    <tr>\n",
       "      <th>1</th>\n",
       "      <td>20171028</td>\n",
       "      <td>28403</td>\n",
       "      <td>8</td>\n",
       "      <td>3</td>\n",
       "      <td>8</td>\n",
       "      <td>38</td>\n",
       "    </tr>\n",
       "    <tr>\n",
       "      <th>2</th>\n",
       "      <td>20171028</td>\n",
       "      <td>28723</td>\n",
       "      <td>11</td>\n",
       "      <td>13</td>\n",
       "      <td>11</td>\n",
       "      <td>17</td>\n",
       "    </tr>\n",
       "    <tr>\n",
       "      <th>3</th>\n",
       "      <td>20171028</td>\n",
       "      <td>29071</td>\n",
       "      <td>5</td>\n",
       "      <td>47</td>\n",
       "      <td>6</td>\n",
       "      <td>5</td>\n",
       "    </tr>\n",
       "    <tr>\n",
       "      <th>4</th>\n",
       "      <td>20171028</td>\n",
       "      <td>29431</td>\n",
       "      <td>11</td>\n",
       "      <td>10</td>\n",
       "      <td>11</td>\n",
       "      <td>33</td>\n",
       "    </tr>\n",
       "  </tbody>\n",
       "</table>\n",
       "</div>"
      ],
      "text/plain": [
       "   connection_date  user_id  start_hour  start_minute  end_hour  end_minute\n",
       "0         20171028    24635          13            18        13          25\n",
       "1         20171028    28403           8             3         8          38\n",
       "2         20171028    28723          11            13        11          17\n",
       "3         20171028    29071           5            47         6           5\n",
       "4         20171028    29431          11            10        11          33"
      ]
     },
     "execution_count": 3,
     "metadata": {},
     "output_type": "execute_result"
    }
   ],
   "source": [
    "# read csv file and preview data\n",
    "connections = pd.read_csv(CSV_FILE_PATH)\n",
    "connections.head()"
   ]
  },
  {
   "cell_type": "code",
   "execution_count": 4,
   "metadata": {},
   "outputs": [
    {
     "data": {
      "text/plain": [
       "(11601, 6)"
      ]
     },
     "execution_count": 4,
     "metadata": {},
     "output_type": "execute_result"
    }
   ],
   "source": [
    "# check how many rows\n",
    "connections.shape"
   ]
  },
  {
   "cell_type": "code",
   "execution_count": 5,
   "metadata": {},
   "outputs": [
    {
     "data": {
      "text/html": [
       "<div>\n",
       "<style scoped>\n",
       "    .dataframe tbody tr th:only-of-type {\n",
       "        vertical-align: middle;\n",
       "    }\n",
       "\n",
       "    .dataframe tbody tr th {\n",
       "        vertical-align: top;\n",
       "    }\n",
       "\n",
       "    .dataframe thead th {\n",
       "        text-align: right;\n",
       "    }\n",
       "</style>\n",
       "<table border=\"1\" class=\"dataframe\">\n",
       "  <thead>\n",
       "    <tr style=\"text-align: right;\">\n",
       "      <th></th>\n",
       "      <th>connection_date</th>\n",
       "      <th>user_id</th>\n",
       "      <th>start_hour</th>\n",
       "      <th>start_minute</th>\n",
       "      <th>end_hour</th>\n",
       "      <th>end_minute</th>\n",
       "    </tr>\n",
       "  </thead>\n",
       "  <tbody>\n",
       "    <tr>\n",
       "      <th>count</th>\n",
       "      <td>1.160100e+04</td>\n",
       "      <td>11601.000000</td>\n",
       "      <td>11601.000000</td>\n",
       "      <td>11601.000000</td>\n",
       "      <td>11601.000000</td>\n",
       "      <td>11601.000000</td>\n",
       "    </tr>\n",
       "    <tr>\n",
       "      <th>mean</th>\n",
       "      <td>2.017108e+07</td>\n",
       "      <td>356465.564779</td>\n",
       "      <td>12.177399</td>\n",
       "      <td>28.827170</td>\n",
       "      <td>12.414447</td>\n",
       "      <td>29.512801</td>\n",
       "    </tr>\n",
       "    <tr>\n",
       "      <th>std</th>\n",
       "      <td>3.458271e+01</td>\n",
       "      <td>204067.310925</td>\n",
       "      <td>5.085738</td>\n",
       "      <td>17.318593</td>\n",
       "      <td>5.080417</td>\n",
       "      <td>17.350619</td>\n",
       "    </tr>\n",
       "    <tr>\n",
       "      <th>min</th>\n",
       "      <td>2.017103e+07</td>\n",
       "      <td>171.000000</td>\n",
       "      <td>0.000000</td>\n",
       "      <td>0.000000</td>\n",
       "      <td>0.000000</td>\n",
       "      <td>0.000000</td>\n",
       "    </tr>\n",
       "    <tr>\n",
       "      <th>25%</th>\n",
       "      <td>2.017103e+07</td>\n",
       "      <td>163712.000000</td>\n",
       "      <td>8.000000</td>\n",
       "      <td>13.000000</td>\n",
       "      <td>8.000000</td>\n",
       "      <td>14.000000</td>\n",
       "    </tr>\n",
       "    <tr>\n",
       "      <th>50%</th>\n",
       "      <td>2.017110e+07</td>\n",
       "      <td>337862.000000</td>\n",
       "      <td>12.000000</td>\n",
       "      <td>29.000000</td>\n",
       "      <td>12.000000</td>\n",
       "      <td>30.000000</td>\n",
       "    </tr>\n",
       "    <tr>\n",
       "      <th>75%</th>\n",
       "      <td>2.017111e+07</td>\n",
       "      <td>544997.000000</td>\n",
       "      <td>17.000000</td>\n",
       "      <td>43.000000</td>\n",
       "      <td>17.000000</td>\n",
       "      <td>45.000000</td>\n",
       "    </tr>\n",
       "    <tr>\n",
       "      <th>max</th>\n",
       "      <td>2.017111e+07</td>\n",
       "      <td>714719.000000</td>\n",
       "      <td>23.000000</td>\n",
       "      <td>59.000000</td>\n",
       "      <td>23.000000</td>\n",
       "      <td>59.000000</td>\n",
       "    </tr>\n",
       "  </tbody>\n",
       "</table>\n",
       "</div>"
      ],
      "text/plain": [
       "       connection_date        user_id    start_hour  start_minute  \\\n",
       "count     1.160100e+04   11601.000000  11601.000000  11601.000000   \n",
       "mean      2.017108e+07  356465.564779     12.177399     28.827170   \n",
       "std       3.458271e+01  204067.310925      5.085738     17.318593   \n",
       "min       2.017103e+07     171.000000      0.000000      0.000000   \n",
       "25%       2.017103e+07  163712.000000      8.000000     13.000000   \n",
       "50%       2.017110e+07  337862.000000     12.000000     29.000000   \n",
       "75%       2.017111e+07  544997.000000     17.000000     43.000000   \n",
       "max       2.017111e+07  714719.000000     23.000000     59.000000   \n",
       "\n",
       "           end_hour    end_minute  \n",
       "count  11601.000000  11601.000000  \n",
       "mean      12.414447     29.512801  \n",
       "std        5.080417     17.350619  \n",
       "min        0.000000      0.000000  \n",
       "25%        8.000000     14.000000  \n",
       "50%       12.000000     30.000000  \n",
       "75%       17.000000     45.000000  \n",
       "max       23.000000     59.000000  "
      ]
     },
     "execution_count": 5,
     "metadata": {},
     "output_type": "execute_result"
    }
   ],
   "source": [
    "# take a quick look at the data... we want to see:\n",
    "# if we have missing values (count)\n",
    "# hours min/max should be between 0-25, minutes should be between 0-59\n",
    "connections.describe()"
   ]
  },
  {
   "cell_type": "code",
   "execution_count": 6,
   "metadata": {},
   "outputs": [],
   "source": [
    "conn = sql.connect('selina.db')\n",
    "cursor = conn.cursor()"
   ]
  },
  {
   "cell_type": "code",
   "execution_count": 7,
   "metadata": {},
   "outputs": [
    {
     "data": {
      "text/plain": [
       "<sqlite3.Cursor at 0x7fdf8c5332d0>"
      ]
     },
     "execution_count": 7,
     "metadata": {},
     "output_type": "execute_result"
    }
   ],
   "source": [
    "cursor.execute('CREATE TABLE raw_wifi_connections( connection_date char(8), user_id varchar(25), start_hour int, start_minute int, end_hour int, end_minute int)')\n"
   ]
  },
  {
   "cell_type": "code",
   "execution_count": 8,
   "metadata": {},
   "outputs": [
    {
     "data": {
      "text/plain": [
       "[(11601,)]"
      ]
     },
     "execution_count": 8,
     "metadata": {},
     "output_type": "execute_result"
    }
   ],
   "source": [
    "# insert data into raw table\n",
    "connections.to_sql(name='raw_wifi_connections', con=conn, if_exists='append', index=False)\n",
    "#check that we inserted the right total # of rows\n",
    "conn.commit()\n",
    "countQuery = \"select count(*) as record_count from raw_wifi_connections\"\n",
    "cursor.execute(countQuery)\n",
    "conn_record_count = cursor.fetchall()\n",
    "conn_record_count"
   ]
  },
  {
   "cell_type": "code",
   "execution_count": 9,
   "metadata": {},
   "outputs": [
    {
     "data": {
      "text/plain": [
       "<sqlite3.Cursor at 0x7fdf8c5332d0>"
      ]
     },
     "execution_count": 9,
     "metadata": {},
     "output_type": "execute_result"
    }
   ],
   "source": [
    "# let's create a date dimension table that we can reference the true date format and other attritbutes\n",
    "# for the sake of time I am just going to use the dates in the file, but a good database should have all date possibilites (past&future)\n",
    "cursor.execute('CREATE TABLE d_date(date_str char(8), day_date DATE NOT NULL, year_num INT, month_num INT, week_of_year_num INT, day_num INT, day_of_week INT, day_of_week_name varchar(10))')"
   ]
  },
  {
   "cell_type": "code",
   "execution_count": 10,
   "metadata": {},
   "outputs": [],
   "source": [
    "populate_d_date_SQL=\"INSERT INTO d_date (date_str, day_date, year_num, month_num, day_num) \\\n",
    "SELECT DISTINCT connection_date, \\\n",
    "\tsubstr(connection_date, 1, 4) || '-' || substr(connection_date, 5, 2)|| '-' || substr(connection_date,7, 2)  AS day_date \\\n",
    "    , substr(connection_date, 1, 4) as year_num \\\n",
    "    , cast(substr(connection_date, 5, 2) as int)  as month_num \\\n",
    "    , cast(substr(connection_date, 7, 2) as int)  as day_num \\\n",
    "FROM raw_wifi_connections\""
   ]
  },
  {
   "cell_type": "code",
   "execution_count": 11,
   "metadata": {},
   "outputs": [],
   "source": [
    "update_d_date_SQL = \"UPDATE d_date  \\\n",
    "SET week_of_year_num=strftime('%W',day_date) \\\n",
    ", day_of_week = cast (strftime('%w', day_date) as integer) \\\n",
    ", day_of_week_name = case cast (strftime('%w', day_date) as integer) \\\n",
    "  when 0 then 'Sunday' \\\n",
    "  when 1 then 'Monday' \\\n",
    "  when 2 then 'Tuesday' \\\n",
    "  when 3 then 'Wednesday' \\\n",
    "  when 4 then 'Thursday' \\\n",
    "  when 5 then 'Friday' \\\n",
    "  else 'Saturday' end\""
   ]
  },
  {
   "cell_type": "code",
   "execution_count": 12,
   "metadata": {},
   "outputs": [
    {
     "data": {
      "text/plain": [
       "[(14, 14)]"
      ]
     },
     "execution_count": 12,
     "metadata": {},
     "output_type": "execute_result"
    }
   ],
   "source": [
    "cursor.execute(populate_d_date_SQL)\n",
    "cursor.execute(update_d_date_SQL)\n",
    "#check row count\n",
    "conn.commit()\n",
    "countQuery = \"select count(*) as record_count, count(week_of_year_num) as woy_count from d_date\"\n",
    "cursor.execute(countQuery)\n",
    "d_record_count = cursor.fetchall()\n",
    "d_record_count"
   ]
  },
  {
   "cell_type": "code",
   "execution_count": 13,
   "metadata": {},
   "outputs": [
    {
     "name": "stdout",
     "output_type": "stream",
     "text": [
      "0      0\n",
      "1      1\n",
      "2      2\n",
      "3      3\n",
      "4      4\n",
      "5      5\n",
      "6      6\n",
      "7      7\n",
      "8      8\n",
      "9      9\n",
      "10    10\n",
      "11    11\n",
      "12    12\n",
      "13    13\n",
      "14    14\n",
      "15    15\n",
      "16    16\n",
      "17    17\n",
      "18    18\n",
      "19    19\n",
      "20    20\n",
      "21    21\n",
      "22    22\n",
      "23    23\n",
      "Name: hour_int, dtype: int64\n"
     ]
    }
   ],
   "source": [
    "# Now we are going to create a table to replicate hours per day so we can identify who is connected at every hour in the viz (instead of just start/end)\n",
    "hours_in_day=pd.Series(range(0,24), name='hour_int')\n",
    "print(hours_in_day)"
   ]
  },
  {
   "cell_type": "code",
   "execution_count": 14,
   "metadata": {},
   "outputs": [
    {
     "data": {
      "text/plain": [
       "[(24,)]"
      ]
     },
     "execution_count": 14,
     "metadata": {},
     "output_type": "execute_result"
    }
   ],
   "source": [
    "hours_in_day.to_sql(name='d_hour', con=conn, if_exists='replace', index=False)\n",
    "#check row count\n",
    "conn.commit()\n",
    "countQuery = \"select count(*) as record_count from d_hour\"\n",
    "cursor.execute(countQuery)\n",
    "d_record_count = cursor.fetchall()\n",
    "d_record_count"
   ]
  },
  {
   "cell_type": "code",
   "execution_count": 15,
   "metadata": {},
   "outputs": [
    {
     "data": {
      "text/plain": [
       "<sqlite3.Cursor at 0x7fdf8c5332d0>"
      ]
     },
     "execution_count": 15,
     "metadata": {},
     "output_type": "execute_result"
    }
   ],
   "source": [
    "# Create our reporting fact table\n",
    "cursor.execute('CREATE TABLE f_wifi_connections(id INTEGER PRIMARY KEY AUTOINCREMENT, user_id varchar(25), connection_date char(8), connection_start_datetime datetime, connection_end_datetime datetime, start_hour int, start_minute int, end_hour int, end_minute int)')"
   ]
  },
  {
   "cell_type": "code",
   "execution_count": 18,
   "metadata": {},
   "outputs": [],
   "source": [
    "populate_f_SQL=\"INSERT INTO f_wifi_connections (user_id, connection_date, connection_start_datetime, connection_end_datetime, start_hour, start_minute, end_hour, end_minute) \\\n",
    "SELECT DISTINCT user_id, \\\n",
    "    r.connection_date, \\\n",
    "\td.day_date || ' ' || \\\n",
    "        case when r.start_hour<10 then '0' else '' end || \\\n",
    "        r.start_hour|| ':' || case when r.start_minute<10 then '0' else '' end || r.start_minute   AS start_datetime, \\\n",
    "\td.day_date || ' ' || \\\n",
    "        case when r.end_hour<10 then '0' else '' end || \\\n",
    "        r.end_hour|| ':' || case when r.end_minute<10 then '0' else '' end || r.end_minute  AS end_datetime \\\n",
    "    ,  start_hour, start_minute, end_hour, end_minute \\\n",
    "FROM raw_wifi_connections r \\\n",
    "JOIN d_date d  \\\n",
    "on r.connection_date=d.date_str\""
   ]
  },
  {
   "cell_type": "code",
   "execution_count": 19,
   "metadata": {},
   "outputs": [
    {
     "data": {
      "text/plain": [
       "[(11601,)]"
      ]
     },
     "execution_count": 19,
     "metadata": {},
     "output_type": "execute_result"
    }
   ],
   "source": [
    "cursor.execute(populate_f_SQL)\n",
    "#check row count\n",
    "conn.commit()\n",
    "countQuery = \"select count(*) as record_count from f_wifi_connections\"\n",
    "cursor.execute(countQuery)\n",
    "d_record_count = cursor.fetchall()\n",
    "d_record_count"
   ]
  },
  {
   "cell_type": "code",
   "execution_count": 20,
   "metadata": {},
   "outputs": [],
   "source": [
    "conn.commit()\n",
    "\n",
    "cursor.close()"
   ]
  },
  {
   "cell_type": "code",
   "execution_count": 22,
   "metadata": {},
   "outputs": [
    {
     "data": {
      "text/html": [
       "<div>\n",
       "<style scoped>\n",
       "    .dataframe tbody tr th:only-of-type {\n",
       "        vertical-align: middle;\n",
       "    }\n",
       "\n",
       "    .dataframe tbody tr th {\n",
       "        vertical-align: top;\n",
       "    }\n",
       "\n",
       "    .dataframe thead th {\n",
       "        text-align: right;\n",
       "    }\n",
       "</style>\n",
       "<table border=\"1\" class=\"dataframe\">\n",
       "  <thead>\n",
       "    <tr style=\"text-align: right;\">\n",
       "      <th></th>\n",
       "      <th>user_id</th>\n",
       "      <th>connection_start_datetime</th>\n",
       "      <th>connection_end_datetime</th>\n",
       "      <th>active_hour_int</th>\n",
       "      <th>date_str</th>\n",
       "      <th>day_date</th>\n",
       "      <th>year_num</th>\n",
       "      <th>month_num</th>\n",
       "      <th>week_of_year_num</th>\n",
       "      <th>day_num</th>\n",
       "      <th>day_of_week</th>\n",
       "      <th>day_of_week_name</th>\n",
       "    </tr>\n",
       "  </thead>\n",
       "  <tbody>\n",
       "    <tr>\n",
       "      <th>0</th>\n",
       "      <td>24635</td>\n",
       "      <td>2017-10-28 13:18</td>\n",
       "      <td>2017-10-28 13:25</td>\n",
       "      <td>13</td>\n",
       "      <td>20171028</td>\n",
       "      <td>2017-10-28</td>\n",
       "      <td>2017</td>\n",
       "      <td>10</td>\n",
       "      <td>43</td>\n",
       "      <td>28</td>\n",
       "      <td>6</td>\n",
       "      <td>Saturday</td>\n",
       "    </tr>\n",
       "    <tr>\n",
       "      <th>1</th>\n",
       "      <td>28403</td>\n",
       "      <td>2017-10-28 08:03</td>\n",
       "      <td>2017-10-28 08:38</td>\n",
       "      <td>8</td>\n",
       "      <td>20171028</td>\n",
       "      <td>2017-10-28</td>\n",
       "      <td>2017</td>\n",
       "      <td>10</td>\n",
       "      <td>43</td>\n",
       "      <td>28</td>\n",
       "      <td>6</td>\n",
       "      <td>Saturday</td>\n",
       "    </tr>\n",
       "    <tr>\n",
       "      <th>2</th>\n",
       "      <td>28723</td>\n",
       "      <td>2017-10-28 11:13</td>\n",
       "      <td>2017-10-28 11:17</td>\n",
       "      <td>11</td>\n",
       "      <td>20171028</td>\n",
       "      <td>2017-10-28</td>\n",
       "      <td>2017</td>\n",
       "      <td>10</td>\n",
       "      <td>43</td>\n",
       "      <td>28</td>\n",
       "      <td>6</td>\n",
       "      <td>Saturday</td>\n",
       "    </tr>\n",
       "    <tr>\n",
       "      <th>3</th>\n",
       "      <td>29071</td>\n",
       "      <td>2017-10-28 05:47</td>\n",
       "      <td>2017-10-28 06:05</td>\n",
       "      <td>5</td>\n",
       "      <td>20171028</td>\n",
       "      <td>2017-10-28</td>\n",
       "      <td>2017</td>\n",
       "      <td>10</td>\n",
       "      <td>43</td>\n",
       "      <td>28</td>\n",
       "      <td>6</td>\n",
       "      <td>Saturday</td>\n",
       "    </tr>\n",
       "    <tr>\n",
       "      <th>4</th>\n",
       "      <td>29071</td>\n",
       "      <td>2017-10-28 05:47</td>\n",
       "      <td>2017-10-28 06:05</td>\n",
       "      <td>6</td>\n",
       "      <td>20171028</td>\n",
       "      <td>2017-10-28</td>\n",
       "      <td>2017</td>\n",
       "      <td>10</td>\n",
       "      <td>43</td>\n",
       "      <td>28</td>\n",
       "      <td>6</td>\n",
       "      <td>Saturday</td>\n",
       "    </tr>\n",
       "  </tbody>\n",
       "</table>\n",
       "</div>"
      ],
      "text/plain": [
       "  user_id connection_start_datetime connection_end_datetime  active_hour_int  \\\n",
       "0   24635          2017-10-28 13:18        2017-10-28 13:25               13   \n",
       "1   28403          2017-10-28 08:03        2017-10-28 08:38                8   \n",
       "2   28723          2017-10-28 11:13        2017-10-28 11:17               11   \n",
       "3   29071          2017-10-28 05:47        2017-10-28 06:05                5   \n",
       "4   29071          2017-10-28 05:47        2017-10-28 06:05                6   \n",
       "\n",
       "   date_str    day_date  year_num  month_num  week_of_year_num  day_num  \\\n",
       "0  20171028  2017-10-28      2017         10                43       28   \n",
       "1  20171028  2017-10-28      2017         10                43       28   \n",
       "2  20171028  2017-10-28      2017         10                43       28   \n",
       "3  20171028  2017-10-28      2017         10                43       28   \n",
       "4  20171028  2017-10-28      2017         10                43       28   \n",
       "\n",
       "   day_of_week day_of_week_name  \n",
       "0            6         Saturday  \n",
       "1            6         Saturday  \n",
       "2            6         Saturday  \n",
       "3            6         Saturday  \n",
       "4            6         Saturday  "
      ]
     },
     "execution_count": 22,
     "metadata": {},
     "output_type": "execute_result"
    }
   ],
   "source": [
    "exportQuery = \"select f.user_id \\\n",
    "                , f.connection_start_datetime \\\n",
    "                , f.connection_end_datetime \\\n",
    "                , h.hour_int as active_hour_int \\\n",
    "                , d.*  \\\n",
    "from f_wifi_connections f \\\n",
    "join d_hour h on h.hour_int between f.start_hour and f.end_hour \\\n",
    "left join d_date d on f.connection_date=d.date_str\"\n",
    "connections_export_df=pd.read_sql_query(exportQuery, conn)\n",
    "connections_export_df.head()"
   ]
  },
  {
   "cell_type": "code",
   "execution_count": 23,
   "metadata": {},
   "outputs": [],
   "source": [
    "connections_export_df.to_csv('wifi_connections_tableau.csv')"
   ]
  }
 ],
 "metadata": {
  "kernelspec": {
   "display_name": "Python 3",
   "language": "python",
   "name": "python3"
  },
  "language_info": {
   "codemirror_mode": {
    "name": "ipython",
    "version": 3
   },
   "file_extension": ".py",
   "mimetype": "text/x-python",
   "name": "python",
   "nbconvert_exporter": "python",
   "pygments_lexer": "ipython3",
   "version": "3.7.1"
  }
 },
 "nbformat": 4,
 "nbformat_minor": 4
}
